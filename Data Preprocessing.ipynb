{
 "cells": [
  {
   "cell_type": "code",
   "execution_count": 2,
   "outputs": [
    {
     "name": "stderr",
     "output_type": "stream",
     "text": [
      "[nltk_data] Downloading package punkt to\n",
      "[nltk_data]     C:\\Users\\Tibi\\AppData\\Roaming\\nltk_data...\n",
      "[nltk_data]   Package punkt is already up-to-date!\n"
     ]
    },
    {
     "data": {
      "text/plain": "True"
     },
     "execution_count": 2,
     "metadata": {},
     "output_type": "execute_result"
    }
   ],
   "source": [
    "import pandas as pd\n",
    "import emoji\n",
    "import ast\n",
    "import re\n",
    "import nltk\n",
    "from nltk.tokenize import word_tokenize\n",
    "nltk.download('punkt')"
   ],
   "metadata": {
    "collapsed": false
   }
  },
  {
   "cell_type": "code",
   "execution_count": null,
   "outputs": [],
   "source": [
    "## Incarcare dataset\n",
    "df = pd.read_csv('dataset/train_data.csv')\n",
    "df.head()"
   ],
   "metadata": {
    "collapsed": false,
    "pycharm": {
     "is_executing": true
    }
   }
  },
  {
   "cell_type": "code",
   "execution_count": 17,
   "outputs": [],
   "source": [
    "def text_without_emojis():\n",
    "    text_noemoji = []\n",
    "    for i in df.index:\n",
    "        line = df['Text'].iloc[i]\n",
    "        emojis = emoji.emoji_list(line)\n",
    "        for emoji_dict in emojis:\n",
    "            emoji_str = emoji_dict.get('emoji')\n",
    "            line = re.sub(emoji_str, '', line)\n",
    "        text_noemoji.append(line)\n",
    "    return text_noemoji"
   ],
   "metadata": {
    "collapsed": false
   }
  },
  {
   "cell_type": "code",
   "execution_count": 18,
   "outputs": [],
   "source": [
    "def text_without_mentions():\n",
    "    text_nomentions = [re.sub(r'@\\S+', '', line) for line in df['Text']]\n",
    "    return text_nomentions"
   ],
   "metadata": {
    "collapsed": false
   }
  },
  {
   "cell_type": "code",
   "execution_count": 19,
   "outputs": [],
   "source": [
    "def weird_characters():\n",
    "    chars = {character for line in df['Text'] for character in line if not re.search(r'[a-zA-Z0-9șțîâăȘȚÂĂÎ\\s_-]+', character)}\n",
    "    return chars"
   ],
   "metadata": {
    "collapsed": false
   }
  },
  {
   "cell_type": "code",
   "execution_count": 20,
   "outputs": [],
   "source": [
    "def check_with_dictionary(file_name):\n",
    "    text_cleaned = []\n",
    "    with open(file_name, \"r\", encoding='UTF-8') as data:\n",
    "        dictionary = ast.literal_eval(data.read())\n",
    "        # print(dictionary)\n",
    "        # print(type(dictionary))\n",
    "        for line in df['Text']:\n",
    "            for key in dictionary:\n",
    "                if key != dictionary[key]:\n",
    "                    while line.find(key) != -1:\n",
    "                        line = line.replace(key, dictionary[key])\n",
    "            text_cleaned.append(line)\n",
    "    return text_cleaned"
   ],
   "metadata": {
    "collapsed": false
   }
  },
  {
   "cell_type": "code",
   "execution_count": 21,
   "outputs": [],
   "source": [
    "def clean_non_ascii():\n",
    "    text_cleaned = []\n",
    "    for line in df['Text']:\n",
    "        tokens = word_tokenize(line)\n",
    "        clean_tokens = [token for token in tokens if token.isascii() or re.search(r'[/SșțîâăȘȚÂĂÎ/S]',token)]\n",
    "        clean_text = \" \".join(clean_tokens)\n",
    "        text_cleaned.append(clean_text)\n",
    "    return text_cleaned"
   ],
   "metadata": {
    "collapsed": false
   }
  },
  {
   "cell_type": "code",
   "execution_count": 22,
   "outputs": [],
   "source": [
    "def clean_non_alphanumerical():\n",
    "    text_cleaned = []\n",
    "    dictionary = weird_characters()\n",
    "    for line in df['Text']:\n",
    "        for elem in dictionary:\n",
    "            while line.find(elem) != -1:\n",
    "                line = line.replace(elem, '')\n",
    "        text_cleaned.append(line)\n",
    "    return text_cleaned"
   ],
   "metadata": {
    "collapsed": false
   }
  },
  {
   "cell_type": "code",
   "execution_count": 23,
   "outputs": [],
   "source": [
    "def lowercase_text():\n",
    "    text_lowercase = []\n",
    "    for line in df['Text']:\n",
    "        line = line.replace('_', ' ')\n",
    "        if not re.search(r'[ȘȚÂĂÎ]+', line):\n",
    "            line = line.lower()\n",
    "        else:\n",
    "            line = line.replace(\"Ț\", \"ț\").replace(\"Ș\", \"ș\").replace(\"Î\", \"î\").replace(\"Ă\", \"ă\").replace(\"Â\", \"â\")\n",
    "        text_lowercase.append(line)\n",
    "\n",
    "    return text_lowercase"
   ],
   "metadata": {
    "collapsed": false
   }
  },
  {
   "cell_type": "code",
   "execution_count": null,
   "outputs": [],
   "source": [
    "df['Text'] = text_without_emojis()\n",
    "df['Text'] = text_without_mentions()\n",
    "# df['Text'] = check_with_dictionary('character map/full_replace.txt')\n",
    "# df['Text'] = clean_non_ascii()\n",
    "# df['Text'] = clean_non_alphanumerical()\n",
    "# df['Text'] = lowercase_text()\n",
    "\n",
    "df.to_csv('dataset/train_data_noemoji_nomentions.csv', index=False)"
   ],
   "metadata": {
    "collapsed": false,
    "pycharm": {
     "is_executing": true
    }
   }
  },
  {
   "cell_type": "code",
   "execution_count": null,
   "outputs": [],
   "source": [
    "## Testare dataset\n",
    "#df = pd.read_csv('dataset/train_data_noemoji.csv')\n",
    "#df = pd.read_csv('dataset/train_data_noemoji_nomentions.csv')\n",
    "df.head(10)"
   ],
   "metadata": {
    "collapsed": false
   }
  }
 ],
 "metadata": {
  "kernelspec": {
   "display_name": "Python 3",
   "language": "python",
   "name": "python3"
  },
  "language_info": {
   "codemirror_mode": {
    "name": "ipython",
    "version": 2
   },
   "file_extension": ".py",
   "mimetype": "text/x-python",
   "name": "python",
   "nbconvert_exporter": "python",
   "pygments_lexer": "ipython2",
   "version": "2.7.6"
  }
 },
 "nbformat": 4,
 "nbformat_minor": 0
}
